{
 "cells": [
  {
   "cell_type": "code",
   "execution_count": null,
   "id": "75e0ef5b",
   "metadata": {
    "vscode": {
     "languageId": "plaintext"
    }
   },
   "outputs": [],
   "source": [
    "import numpy as np\n",
    "import matplotlib.pyplot as plt\n",
    "from tensorflow.keras.models import load_model\n",
    "from tensorflow.keras.utils import to_categorical\n",
    "from tensorflow.keras.datasets import mnist\n",
    "\n",
    "# بارگذاری داده‌ها\n",
    "(x_train, y_train), (x_test, y_test) = mnist.load_data()\n",
    "\n",
    "# نرمال‌سازی و reshape\n",
    "x_test = x_test.reshape(-1, 28, 28, 1).astype(\"float32\") / 255.0\n",
    "\n",
    "# بارگذاری مدل ذخیره‌شده\n",
    "model = load_model(\"my_model.keras\")\n",
    "\n",
    "# انتخاب یک تصویر برای تست\n",
    "index = 0  \n",
    "image = x_test[index]\n",
    "true_label = y_test[index]\n",
    "\n",
    "# reshape برای ورودی مدل\n",
    "input_image = np.expand_dims(image, axis=0)\n",
    "\n",
    "# پیش‌بینی مدل\n",
    "prediction = model.predict(input_image)\n",
    "\n",
    "# گرفتن کلاس با بیشترین احتمال\n",
    "predicted_class = np.argmax(prediction)\n",
    "predicted_prob = np.max(prediction) * 100  # درصد\n",
    "\n",
    "# نمایش تصویر همراه با اطلاعات پیش‌بینی\n",
    "plt.imshow(image.squeeze(), cmap='gray')\n",
    "plt.title(f\"Real: {true_label} | Predicted: {predicted_class} ({predicted_prob:.2f}%)\")\n",
    "plt.axis('off')\n",
    "plt.show()"
   ]
  }
 ],
 "metadata": {
  "language_info": {
   "name": "python"
  }
 },
 "nbformat": 4,
 "nbformat_minor": 5
}
